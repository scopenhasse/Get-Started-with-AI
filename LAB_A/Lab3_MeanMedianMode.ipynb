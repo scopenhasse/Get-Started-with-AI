{
 "cells": [
  {
   "cell_type": "markdown",
   "metadata": {},
   "source": [
    "# Mean, Median, Mode, and introducing NumPy"
   ]
  },
  {
   "cell_type": "markdown",
   "metadata": {},
   "source": [
    "## Mean vs. Median"
   ]
  },
  {
   "cell_type": "markdown",
   "metadata": {},
   "source": [
    "Let's create some fake income data, centered around 27,000 with a normal distribution and standard deviation of 15,000, with 10,000 data points. \n",
    "\n",
    "Then, compute the mean (average) - it should be close to 27,000:"
   ]
  },
  {
   "cell_type": "code",
   "execution_count": 1,
   "metadata": {},
   "outputs": [
    {
     "name": "stdout",
     "output_type": "stream",
     "text": [
      "[52150.79926689 45659.64247892  4481.21557997 ... 39859.33175321\n",
      " 56020.37314671 39270.30661504]\n"
     ]
    },
    {
     "data": {
      "text/plain": [
       "26939.406242485653"
      ]
     },
     "execution_count": 1,
     "metadata": {},
     "output_type": "execute_result"
    }
   ],
   "source": [
    "import numpy as np\n",
    "\n",
    "incomes = np.random.normal(27000, 15000, 10000)\n",
    "print(incomes)\n",
    "\n",
    "np.mean(incomes)\n"
   ]
  },
  {
   "cell_type": "markdown",
   "metadata": {},
   "source": [
    "We can segment the income data into 50 buckets, and plot it as a histogram:"
   ]
  },
  {
   "cell_type": "code",
   "execution_count": 2,
   "metadata": {},
   "outputs": [
    {
     "data": {
      "image/png": "[encoded data removed]",
      "text/plain": [
       "<Figure size 640x480 with 1 Axes>"
      ]
     },
     "metadata": {},
     "output_type": "display_data"
    }
   ],
   "source": [
    "%matplotlib inline\n",
    "import matplotlib.pyplot as plt\n",
    "plt.hist(incomes, 50)\n",
    "plt.show()"
   ]
  },
  {
   "cell_type": "markdown",
   "metadata": {},
   "source": [
    "Now compute the median - since we have a nice, even distribution it too should be close to 27,000:"
   ]
  },
  {
   "cell_type": "code",
   "execution_count": 3,
   "metadata": {},
   "outputs": [
    {
     "data": {
      "text/plain": [
       "26979.12055053673"
      ]
     },
     "execution_count": 3,
     "metadata": {},
     "output_type": "execute_result"
    }
   ],
   "source": [
    "np.median(incomes)\n",
    "#its actully close to 27000"
   ]
  },
  {
   "cell_type": "markdown",
   "metadata": {},
   "source": [
    "Now we'll add the income of Jeff Bezos (a millionaire)!"
   ]
  },
  {
   "cell_type": "code",
   "execution_count": 4,
   "metadata": {},
   "outputs": [],
   "source": [
    "incomes = np.append(incomes, [1000000000])"
   ]
  },
  {
   "cell_type": "markdown",
   "metadata": {},
   "source": [
    "How does the income of a millionaire affect the results?"
   ]
  },
  {
   "cell_type": "code",
   "execution_count": 5,
   "metadata": {},
   "outputs": [
    {
     "data": {
      "text/plain": [
       "26980.51613106314"
      ]
     },
     "execution_count": 5,
     "metadata": {},
     "output_type": "execute_result"
    }
   ],
   "source": [
    "np.median(incomes)\n",
    "# the result wasn't far away from the previous one 26946 vs 26951"
   ]
  },
  {
   "cell_type": "code",
   "execution_count": 6,
   "metadata": {},
   "outputs": [
    {
     "data": {
      "text/plain": [
       "126926.71357112852"
      ]
     },
     "execution_count": 6,
     "metadata": {},
     "output_type": "execute_result"
    }
   ],
   "source": [
    "np.mean(incomes)\n",
    "# the result is a bit diffrent from the previous one 27189 vs 226895"
   ]
  },
  {
   "cell_type": "markdown",
   "metadata": {},
   "source": [
    "## Mode"
   ]
  },
  {
   "cell_type": "markdown",
   "metadata": {},
   "source": [
    "Next, let's generate some fake age data for 500 people:"
   ]
  },
  {
   "cell_type": "code",
   "execution_count": 7,
   "metadata": {},
   "outputs": [
    {
     "data": {
      "text/plain": [
       "array([88, 28, 70, 57, 45, 57, 58, 42, 73, 68, 30, 42, 42, 55, 80, 84, 34,\n",
       "       74, 62, 52, 45, 71, 37, 45, 78, 25, 63, 81, 41, 71, 27, 70, 52, 20,\n",
       "       80, 39, 53, 49, 35, 63, 73, 53, 83, 36, 28, 18, 62, 60, 29, 88, 60,\n",
       "       89, 68, 69, 73, 60, 37, 66, 81, 30, 64, 29, 52, 36, 34, 21, 27, 79,\n",
       "       65, 76, 65, 33, 65, 18, 48, 61, 58, 38, 88, 42, 23, 30, 68, 86, 29,\n",
       "       47, 65, 21, 81, 86, 82, 81, 45, 48, 43, 51, 61, 74, 54, 45, 82, 77,\n",
       "       67, 75, 56, 28, 41, 33, 79, 23, 38, 85, 33, 87, 66, 38, 35, 58, 71,\n",
       "       38, 49, 21, 24, 55, 55, 20, 69, 29, 82, 42, 78, 64, 22, 45, 24, 25,\n",
       "       69, 68, 35, 33, 72, 31, 45, 25, 60, 75, 86, 69, 51, 56, 61, 85, 89,\n",
       "       23, 75, 55, 39, 24, 19, 20, 50, 76, 62, 50, 35, 53, 85, 26, 18, 70,\n",
       "       74, 77, 20, 88, 44, 46, 33, 70, 87, 83, 45, 70, 71, 35, 51, 22, 58,\n",
       "       52, 33, 88, 51, 37, 71, 19, 43, 45, 34, 51, 41, 74, 79, 48, 87, 55,\n",
       "       67, 47, 60, 66, 34, 63, 55, 42, 46, 28, 36, 52, 36, 51, 68, 23, 78,\n",
       "       76, 31, 27, 65, 31, 50, 88, 22, 70, 29, 38, 66, 88, 27, 81, 75, 89,\n",
       "       34, 64, 66, 72, 47, 30, 57, 66, 26, 60, 51, 79, 87, 34, 79, 78, 38,\n",
       "       42, 36, 73, 69, 46, 36, 24, 46, 84, 68, 25, 73, 31, 82, 32, 75, 28,\n",
       "       22, 66, 27, 78, 55, 24, 87, 47, 82, 71, 50, 36, 31, 31, 23, 22, 25,\n",
       "       75, 53, 21, 20, 79, 46, 32, 18, 21, 64, 29, 49, 81, 58, 20, 83, 57,\n",
       "       52, 40, 25, 42, 57, 71, 46, 53, 24, 26, 87, 62, 32, 68, 18, 20, 24,\n",
       "       32, 59, 83, 50, 80, 81, 64, 78, 80, 43, 22, 44, 41, 67, 89, 27, 84,\n",
       "       18, 67, 64, 75, 59, 82, 88, 75, 88, 75, 49, 80, 48, 87, 36, 59, 64,\n",
       "       81, 60, 50, 62, 27, 26, 25, 67, 27, 47, 46, 75, 32, 53, 48, 35, 84,\n",
       "       18, 69, 39, 63, 58, 78, 30, 54, 65, 45, 61, 86, 19, 76, 34, 29, 72,\n",
       "       60, 20, 50, 21, 39, 52, 77, 26, 58, 44, 40, 53, 72, 47, 31, 77, 35,\n",
       "       29, 29, 58, 19, 86, 49, 84, 51, 73, 82, 56, 84, 88, 38, 21, 42, 32,\n",
       "       76, 65, 44, 20, 31, 87, 58, 58, 62, 47, 59, 52, 30, 23, 76, 63, 62,\n",
       "       26, 46, 84, 80, 74, 61, 81, 89, 30, 82, 30, 59, 19, 50, 42, 44, 21,\n",
       "       51, 52, 27, 40, 41, 72, 66, 19, 43, 65, 61, 75, 60, 78, 46, 41, 24,\n",
       "       73, 19, 87, 84, 18, 87, 23, 27, 62, 20, 73, 74, 76, 42, 21, 45, 33,\n",
       "       29, 56, 41, 64, 54, 79, 34])"
      ]
     },
     "execution_count": 7,
     "metadata": {},
     "output_type": "execute_result"
    }
   ],
   "source": [
    "# function randint(start, end, size)\n",
    "ages = np.random.randint(18, high=90, size=500)\n",
    "ages"
   ]
  },
  {
   "cell_type": "code",
   "execution_count": 8,
   "metadata": {},
   "outputs": [
    {
     "name": "stderr",
     "output_type": "stream",
     "text": [
      "/tmp/ipykernel_11177/2994774060.py:2: FutureWarning: Unlike other reduction functions (e.g. `skew`, `kurtosis`), the default behavior of `mode` typically preserves the axis it acts along. In SciPy 1.11.0, this behavior will change: the default value of `keepdims` will become False, the `axis` over which the statistic is taken will be eliminated, and the value None will no longer be accepted. Set `keepdims` to True or False to avoid this warning.\n",
      "  stats.mode(ages)\n"
     ]
    },
    {
     "data": {
      "text/plain": [
       "ModeResult(mode=array([42]), count=array([11]))"
      ]
     },
     "execution_count": 8,
     "metadata": {},
     "output_type": "execute_result"
    }
   ],
   "source": [
    "from scipy import stats\n",
    "stats.mode(ages)"
   ]
  },
  {
   "cell_type": "code",
   "execution_count": null,
   "metadata": {},
   "outputs": [],
   "source": []
  }
 ],
 "metadata": {
  "kernelspec": {
   "display_name": "Python 3 (ipykernel)",
   "language": "python",
   "name": "python3"
  },
  "language_info": {
   "codemirror_mode": {
    "name": "ipython",
    "version": 3
   },
   "file_extension": ".py",
   "mimetype": "text/x-python",
   "name": "python",
   "nbconvert_exporter": "python",
   "pygments_lexer": "ipython3",
   "version": "3.9.13"
  }
 },
 "nbformat": 4,
 "nbformat_minor": 1
}
