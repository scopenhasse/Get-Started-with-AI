{
 "cells": [
  {
   "cell_type": "markdown",
   "metadata": {},
   "source": [
    "# Multiple Regression"
   ]
  },
  {
   "cell_type": "markdown",
   "metadata": {},
   "source": [
    "Let's grab a small little data set of Blue Book car values:"
   ]
  },
  {
   "cell_type": "code",
   "execution_count": 119,
   "metadata": {},
   "outputs": [],
   "source": [
    "import pandas as pd\n",
    "\n",
    "df = pd.read_excel('cars.xls')\n"
   ]
  },
  {
   "cell_type": "code",
   "execution_count": 120,
   "metadata": {},
   "outputs": [
    {
     "name": "stdout",
     "output_type": "stream",
     "text": [
      "                     Mileage         Price\n",
      "Mileage                                   \n",
      "(0, 10000]       5588.629630  24096.714451\n",
      "(10000, 20000]  15898.496183  21955.979607\n",
      "(20000, 30000]  24114.407104  20278.606252\n",
      "(30000, 40000]  33610.338710  19463.670267\n"
     ]
    },
    {
     "data": {
      "text/plain": [
       "<AxesSubplot:xlabel='Mileage'>"
      ]
     },
     "execution_count": 120,
     "metadata": {},
     "output_type": "execute_result"
    },
    {
     "data": {
      "image/png": "[encoded data removed]",
      "text/plain": [
       "<Figure size 640x480 with 1 Axes>"
      ]
     },
     "metadata": {},
     "output_type": "display_data"
    }
   ],
   "source": [
    "%matplotlib inline\n",
    "import numpy as np\n",
    "df1=df[['Mileage','Price']] # select two columns\n",
    "bins =  np.arange(0,50000,10000) # create bins strating from 0 to 50000 with 10000 interval\n",
    "groups = df1.groupby(pd.cut(df1['Mileage'],bins)).mean() # group by bins and calculate mean of each group \n",
    "print(groups.head()) # print first 5 rows\n",
    "groups['Price'].plot.line()# plot line chart\n"
   ]
  },
  {
   "cell_type": "markdown",
   "metadata": {},
   "source": [
    "We can use pandas to split up this matrix into the feature vectors we're interested in, and the value we're trying to predict.\n",
    "\n",
    "Let's scale our feature data into the same range so we can easily compare the coefficients we end up with."
   ]
  },
  {
   "cell_type": "code",
   "execution_count": 121,
   "metadata": {
    "scrolled": true
   },
   "outputs": [
    {
     "name": "stdout",
     "output_type": "stream",
     "text": [
      "      Mileage  Cylinder     Doors\n",
      "0   -1.417485   0.52741  0.556279\n",
      "1   -1.305902   0.52741  0.556279\n",
      "2   -0.810128   0.52741  0.556279\n",
      "3   -0.426058   0.52741  0.556279\n",
      "4    0.000008   0.52741  0.556279\n",
      "..        ...       ...       ...\n",
      "799 -0.439853   0.52741  0.556279\n",
      "800 -0.089966   0.52741  0.556279\n",
      "801  0.079605   0.52741  0.556279\n",
      "802  0.750446   0.52741  0.556279\n",
      "803  1.932565   0.52741  0.556279\n",
      "\n",
      "[804 rows x 3 columns]\n",
      "Price NEW :  0      3969.080640\n",
      "1      3827.109147\n",
      "2      3196.314584\n",
      "3      2707.646843\n",
      "4      2165.545631\n",
      "          ...     \n",
      "799    2725.199118\n",
      "800    2280.023738\n",
      "801    2064.270562\n",
      "802    1210.732979\n",
      "803    -293.326059\n",
      "Length: 804, dtype: float64\n"
     ]
    },
    {
     "name": "stderr",
     "output_type": "stream",
     "text": [
      "/tmp/ipykernel_24030/630331562.py:9: SettingWithCopyWarning: \n",
      "A value is trying to be set on a copy of a slice from a DataFrame.\n",
      "Try using .loc[row_indexer,col_indexer] = value instead\n",
      "\n",
      "See the caveats in the documentation: https://pandas.pydata.org/pandas-docs/stable/user_guide/indexing.html#returning-a-view-versus-a-copy\n",
      "  X[['Mileage', 'Cylinder', 'Doors']] = scale.fit_transform(X[['Mileage', 'Cylinder', 'Doors']].values)\n"
     ]
    }
   ],
   "source": [
    "import statsmodels.api as sm\n",
    "from sklearn.preprocessing import StandardScaler\n",
    "scale = StandardScaler()\n",
    "\n",
    "X = df[['Mileage', 'Cylinder', 'Doors']]\n",
    "y = df['Price']\n",
    "\n",
    "# standardisation\n",
    "X[['Mileage', 'Cylinder', 'Doors']] = scale.fit_transform(X[['Mileage', 'Cylinder', 'Doors']].values)\n",
    "\n",
    "print (X)\n",
    "\n",
    "#Ordinary Least Squares to create the model\n",
    "est = sm.OLS(y, X).fit()\n",
    "\n",
    "est.summary()\n",
    "\n",
    "# Mathmatical formula for the model is Price = a*Mileage + b*Cylinder + c*Doors + cte\n",
    "# replace 0.0001 with the coefficient values from the summary table\n",
    "\n",
    "#Price = -1272.3412 * Mileage + 5587.4472 * Cylinder + (-1404.5513) * Doors\n",
    "\n",
    "Mileage= X['Mileage']\n",
    "Cylinder = X['Cylinder']\n",
    "Doors= X['Doors']\n",
    "\n",
    "Price= (-1272.3412)* Mileage + 5587.4472 * Cylinder + (-1404.5513) * Doors\n",
    "print(\"Price NEW : \",Price)\n",
    "\n",
    "# the most important feature is Cylinder with coefficient 5587.4472 compared to Mileage and Doors\n"
   ]
  },
  {
   "cell_type": "markdown",
   "metadata": {},
   "source": [
    "Explain the code above and the obtained results (look for the significance of each measure)... ?\n",
    "What can you deduce when comparing the obtained coefficients ?"
   ]
  },
  {
   "cell_type": "markdown",
   "metadata": {},
   "source": [
    "\n",
    "    \n",
    "Now, lets find out if the number of doors is important in predicting car prices:"
   ]
  },
  {
   "cell_type": "code",
   "execution_count": 122,
   "metadata": {},
   "outputs": [
    {
     "data": {
      "text/plain": [
       "Doors\n",
       "2    23807.135520\n",
       "4    20580.670749\n",
       "Name: Price, dtype: float64"
      ]
     },
     "execution_count": 122,
     "metadata": {},
     "output_type": "execute_result"
    }
   ],
   "source": [
    "y.groupby(df.Doors).mean()\n",
    "\n",
    "# the Doors feature is important because the mean of the price is getting lower is we add more doors for each group\n"
   ]
  },
  {
   "cell_type": "markdown",
   "metadata": {},
   "source": [
    "\n",
    "How would you use the learned model to make an actual prediction? Start by scaling your multiple feature variables into the same scale used to train the model, then just call est.predict() on the scaled features:"
   ]
  },
  {
   "cell_type": "code",
   "execution_count": 123,
   "metadata": {},
   "outputs": [
    {
     "name": "stdout",
     "output_type": "stream",
     "text": [
      "[[3.07256589 1.96971667 0.55627894]]\n",
      "predicted [6315.01330583]\n",
      "[[-1.20030142  4.85432905 -0.62069018]]\n",
      "predicted [29522.29155041]\n"
     ]
    }
   ],
   "source": [
    "#Prediction for a car with 45000 Mileage, 8 cylinders and 4 doors\n",
    "scaled = scale.transform([[45000, 8, 4]])\n",
    "print(scaled)\n",
    "predicted = est.predict(scaled[0])\n",
    "print(\"predicted\",predicted)\n",
    "\n",
    "#Prediction for a car with 10000 Mileage, 12 cylinders and 2 doors\n",
    "scaled = scale.transform([[10000, 12, 3]])\n",
    "print(scaled)\n",
    "predicted2 = est.predict(scaled[0])\n",
    "print(\"predicted\",predicted2)"
   ]
  },
  {
   "cell_type": "markdown",
   "metadata": {},
   "source": [
    "## Activity"
   ]
  },
  {
   "cell_type": "markdown",
   "metadata": {},
   "source": [
    "- Create a copy of the input data on your disk, and see if you can create a measurable influence of number of doors on price. \n",
    "- Look if there are Outliers in the dataset, if yes, do some data cleaning.\n",
    "- Try adding 8 door cars into the set and see how it affects the results."
   ]
  },
  {
   "cell_type": "code",
   "execution_count": 124,
   "metadata": {},
   "outputs": [
    {
     "name": "stdout",
     "output_type": "stream",
     "text": [
      "        Doors         Price\n",
      "Doors                      \n",
      "(0, 2]    2.0  23807.135520\n",
      "(2, 4]    4.0  20580.670749\n"
     ]
    },
    {
     "data": {
      "text/plain": [
       "<AxesSubplot:xlabel='Doors'>"
      ]
     },
     "execution_count": 124,
     "metadata": {},
     "output_type": "execute_result"
    },
    {
     "data": {
      "image/png": "[encoded data removed]",
      "text/plain": [
       "<Figure size 640x480 with 1 Axes>"
      ]
     },
     "metadata": {},
     "output_type": "display_data"
    }
   ],
   "source": [
    "# the copy of the data is available and named as cars-copy.xls\n",
    "\n",
    "%matplotlib inline\n",
    "import numpy as np\n",
    "df2=df[['Doors','Price']]\n",
    "bins2 =  np.arange(0,5,2)\n",
    "groups2 = df2.groupby(pd.cut(df2['Doors'],bins2)).mean()\n",
    "print(groups2.head())\n",
    "groups2['Price'].plot.line()\n",
    "\n"
   ]
  },
  {
   "cell_type": "code",
   "execution_count": 125,
   "metadata": {},
   "outputs": [
    {
     "data": {
      "image/png": "[encoded data removed]",
      "text/plain": [
       "<Figure size 640x480 with 1 Axes>"
      ]
     },
     "metadata": {},
     "output_type": "display_data"
    }
   ],
   "source": [
    "#looking for the outliers\n",
    "import matplotlib.pyplot as plt\n",
    "plt.scatter(df2['Doors'], df2['Price'])\n",
    "plt.show()\n"
   ]
  },
  {
   "cell_type": "code",
   "execution_count": 126,
   "metadata": {},
   "outputs": [
    {
     "name": "stdout",
     "output_type": "stream",
     "text": [
      "[[3.07256589 1.96971667 0.55627894]]\n",
      "[6315.01330583]\n"
     ]
    }
   ],
   "source": [
    "# prediction for a car with 45000 Mileage, 8 cylinders and 4 doors\n",
    "scaled = scale.transform([[45000, 8, 4]])\n",
    "print(scaled)\n",
    "predicted = est.predict(scaled[0])\n",
    "print(predicted)"
   ]
  },
  {
   "cell_type": "code",
   "execution_count": 127,
   "metadata": {},
   "outputs": [
    {
     "name": "stderr",
     "output_type": "stream",
     "text": [
      "/tmp/ipykernel_24030/4256269263.py:6: FutureWarning: The frame.append method is deprecated and will be removed from pandas in a future version. Use pandas.concat instead.\n",
      "  df2 = df.append(new_car)\n"
     ]
    },
    {
     "data": {
      "image/png": "[encoded data removed]",
      "text/plain": [
       "<Figure size 640x480 with 1 Axes>"
      ]
     },
     "metadata": {},
     "output_type": "display_data"
    }
   ],
   "source": [
    "# adding a new car with 45000 Mileage, 8 cylinders and 8 doors to the data and re-run the model \n",
    "# Create new row for the new car\n",
    "new_car = pd.DataFrame({'Mileage': 30000, 'Cylinder': 6, 'Doors': 8, 'Price': 20000}, index=[len(df)])\n",
    "\n",
    "# Append the new row to the dataframe\n",
    "df2 = df.append(new_car)\n",
    "\n",
    "# Reset the index of the dataframe\n",
    "df2 = df2.reset_index(drop=True)\n",
    "df2.tail()\n",
    "\n",
    "import matplotlib.pyplot as plt\n",
    "plt.scatter(df2['Doors'], df2['Price'])\n",
    "plt.show()\n"
   ]
  },
  {
   "cell_type": "code",
   "execution_count": 128,
   "metadata": {},
   "outputs": [
    {
     "name": "stdout",
     "output_type": "stream",
     "text": [
      "      Mileage  Cylinder     Doors\n",
      "0   -1.418552  0.526992  0.540851\n",
      "1   -1.307007  0.526992  0.540851\n",
      "2   -0.811398  0.526992  0.540851\n",
      "3   -0.427457  0.526992  0.540851\n",
      "4   -0.001533  0.526992  0.540851\n",
      "..        ...       ...       ...\n",
      "800 -0.091478  0.526992  0.540851\n",
      "801  0.078037  0.526992  0.540851\n",
      "802  0.748653  0.526992  0.540851\n",
      "803  1.930377  0.526992  0.540851\n",
      "804  1.239380  0.526992  5.172607\n",
      "\n",
      "[805 rows x 3 columns]\n"
     ]
    },
    {
     "name": "stderr",
     "output_type": "stream",
     "text": [
      "/tmp/ipykernel_24030/2269962264.py:4: SettingWithCopyWarning: \n",
      "A value is trying to be set on a copy of a slice from a DataFrame.\n",
      "Try using .loc[row_indexer,col_indexer] = value instead\n",
      "\n",
      "See the caveats in the documentation: https://pandas.pydata.org/pandas-docs/stable/user_guide/indexing.html#returning-a-view-versus-a-copy\n",
      "  X[['Mileage', 'Cylinder', 'Doors']] = scale.fit_transform(X[['Mileage', 'Cylinder', 'Doors']].values)\n"
     ]
    },
    {
     "data": {
      "text/html": [
       "<table class=\"simpletable\">\n",
       "<caption>OLS Regression Results</caption>\n",
       "<tr>\n",
       "  <th>Dep. Variable:</th>          <td>Price</td>      <th>  R-squared (uncentered):</th>      <td>   0.063</td> \n",
       "</tr>\n",
       "<tr>\n",
       "  <th>Model:</th>                   <td>OLS</td>       <th>  Adj. R-squared (uncentered):</th> <td>   0.060</td> \n",
       "</tr>\n",
       "<tr>\n",
       "  <th>Method:</th>             <td>Least Squares</td>  <th>  F-statistic:       </th>          <td>   18.10</td> \n",
       "</tr>\n",
       "<tr>\n",
       "  <th>Date:</th>             <td>Fri, 24 Feb 2023</td> <th>  Prob (F-statistic):</th>          <td>2.25e-11</td> \n",
       "</tr>\n",
       "<tr>\n",
       "  <th>Time:</th>                 <td>18:11:54</td>     <th>  Log-Likelihood:    </th>          <td> -9218.5</td> \n",
       "</tr>\n",
       "<tr>\n",
       "  <th>No. Observations:</th>      <td>   805</td>      <th>  AIC:               </th>          <td>1.844e+04</td>\n",
       "</tr>\n",
       "<tr>\n",
       "  <th>Df Residuals:</th>          <td>   802</td>      <th>  BIC:               </th>          <td>1.846e+04</td>\n",
       "</tr>\n",
       "<tr>\n",
       "  <th>Df Model:</th>              <td>     3</td>      <th>                     </th>              <td> </td>    \n",
       "</tr>\n",
       "<tr>\n",
       "  <th>Covariance Type:</th>      <td>nonrobust</td>    <th>                     </th>              <td> </td>    \n",
       "</tr>\n",
       "</table>\n",
       "<table class=\"simpletable\">\n",
       "<tr>\n",
       "      <td></td>        <th>coef</th>     <th>std err</th>      <th>t</th>      <th>P>|t|</th>  <th>[0.025</th>    <th>0.975]</th>  \n",
       "</tr>\n",
       "<tr>\n",
       "  <th>Mileage</th>  <td>-1265.2065</td> <td>  803.920</td> <td>   -1.574</td> <td> 0.116</td> <td>-2843.243</td> <td>  312.830</td>\n",
       "</tr>\n",
       "<tr>\n",
       "  <th>Cylinder</th> <td> 5588.0550</td> <td>  803.903</td> <td>    6.951</td> <td> 0.000</td> <td> 4010.053</td> <td> 7166.057</td>\n",
       "</tr>\n",
       "<tr>\n",
       "  <th>Doors</th>    <td>-1397.4940</td> <td>  803.604</td> <td>   -1.739</td> <td> 0.082</td> <td>-2974.909</td> <td>  179.921</td>\n",
       "</tr>\n",
       "</table>\n",
       "<table class=\"simpletable\">\n",
       "<tr>\n",
       "  <th>Omnibus:</th>       <td>158.890</td> <th>  Durbin-Watson:     </th> <td>   0.009</td>\n",
       "</tr>\n",
       "<tr>\n",
       "  <th>Prob(Omnibus):</th> <td> 0.000</td>  <th>  Jarque-Bera (JB):  </th> <td> 259.920</td>\n",
       "</tr>\n",
       "<tr>\n",
       "  <th>Skew:</th>          <td> 1.281</td>  <th>  Prob(JB):          </th> <td>3.62e-57</td>\n",
       "</tr>\n",
       "<tr>\n",
       "  <th>Kurtosis:</th>      <td> 4.089</td>  <th>  Cond. No.          </th> <td>    1.03</td>\n",
       "</tr>\n",
       "</table><br/><br/>Notes:<br/>[1] R² is computed without centering (uncentered) since the model does not contain a constant.<br/>[2] Standard Errors assume that the covariance matrix of the errors is correctly specified."
      ],
      "text/plain": [
       "<class 'statsmodels.iolib.summary.Summary'>\n",
       "\"\"\"\n",
       "                                 OLS Regression Results                                \n",
       "=======================================================================================\n",
       "Dep. Variable:                  Price   R-squared (uncentered):                   0.063\n",
       "Model:                            OLS   Adj. R-squared (uncentered):              0.060\n",
       "Method:                 Least Squares   F-statistic:                              18.10\n",
       "Date:                Fri, 24 Feb 2023   Prob (F-statistic):                    2.25e-11\n",
       "Time:                        18:11:54   Log-Likelihood:                         -9218.5\n",
       "No. Observations:                 805   AIC:                                  1.844e+04\n",
       "Df Residuals:                     802   BIC:                                  1.846e+04\n",
       "Df Model:                           3                                                  \n",
       "Covariance Type:            nonrobust                                                  \n",
       "==============================================================================\n",
       "                 coef    std err          t      P>|t|      [0.025      0.975]\n",
       "------------------------------------------------------------------------------\n",
       "Mileage    -1265.2065    803.920     -1.574      0.116   -2843.243     312.830\n",
       "Cylinder    5588.0550    803.903      6.951      0.000    4010.053    7166.057\n",
       "Doors      -1397.4940    803.604     -1.739      0.082   -2974.909     179.921\n",
       "==============================================================================\n",
       "Omnibus:                      158.890   Durbin-Watson:                   0.009\n",
       "Prob(Omnibus):                  0.000   Jarque-Bera (JB):              259.920\n",
       "Skew:                           1.281   Prob(JB):                     3.62e-57\n",
       "Kurtosis:                       4.089   Cond. No.                         1.03\n",
       "==============================================================================\n",
       "\n",
       "Notes:\n",
       "[1] R² is computed without centering (uncentered) since the model does not contain a constant.\n",
       "[2] Standard Errors assume that the covariance matrix of the errors is correctly specified.\n",
       "\"\"\""
      ]
     },
     "execution_count": 128,
     "metadata": {},
     "output_type": "execute_result"
    }
   ],
   "source": [
    "X = df2[['Mileage', 'Cylinder', 'Doors']]\n",
    "y = df2['Price']\n",
    "\n",
    "X[['Mileage', 'Cylinder', 'Doors']] = scale.fit_transform(X[['Mileage', 'Cylinder', 'Doors']].values)\n",
    "print (X)\n",
    "est2 = sm.OLS(y, X).fit()\n",
    "est2.summary()\n"
   ]
  },
  {
   "cell_type": "code",
   "execution_count": 129,
   "metadata": {},
   "outputs": [
    {
     "name": "stdout",
     "output_type": "stream",
     "text": [
      "[[3.06999624 1.96994534 0.54085102]]\n",
      "[6368.14767781]\n"
     ]
    }
   ],
   "source": [
    "# prediction for a car with 45000 Mileage, 8 cylinders and 4 doors\n",
    "scaled = scale.transform([[45000, 8, 4]])\n",
    "print(scaled)\n",
    "predicted = est2.predict(scaled[0])\n",
    "print(predicted)\n",
    "\n",
    "# old prediction before adding the new car is 6315.01330583 and the new prediction is 6368.14767781\n",
    "# the new prediction is higher than the old one because the new car is an outlier"
   ]
  },
  {
   "cell_type": "code",
   "execution_count": 133,
   "metadata": {},
   "outputs": [
    {
     "name": "stderr",
     "output_type": "stream",
     "text": [
      "/tmp/ipykernel_24030/3272962185.py:6: FutureWarning: The frame.append method is deprecated and will be removed from pandas in a future version. Use pandas.concat instead.\n",
      "  df3 = df2.append(new_car)\n"
     ]
    },
    {
     "data": {
      "image/png": "[encoded data removed]",
      "text/plain": [
       "<Figure size 640x480 with 1 Axes>"
      ]
     },
     "metadata": {},
     "output_type": "display_data"
    },
    {
     "name": "stdout",
     "output_type": "stream",
     "text": [
      "      Mileage  Cylinder      Doors\n",
      "0   -1.419620  0.526574   0.466428\n",
      "1   -1.308111  0.526574   0.466428\n",
      "2   -0.812666  0.526574   0.466428\n",
      "3   -0.428852  0.526574   0.466428\n",
      "4   -0.003070  0.526574   0.466428\n",
      "..        ...       ...        ...\n",
      "801  0.076474  0.526574   0.466428\n",
      "802  0.746868  0.526574   0.466428\n",
      "803  1.928200  0.526574   0.466428\n",
      "804  1.237432  0.526574   4.597643\n",
      "805  1.237432  0.526574  12.860073\n",
      "\n",
      "[806 rows x 3 columns]\n"
     ]
    },
    {
     "name": "stderr",
     "output_type": "stream",
     "text": [
      "/tmp/ipykernel_24030/3272962185.py:20: SettingWithCopyWarning: \n",
      "A value is trying to be set on a copy of a slice from a DataFrame.\n",
      "Try using .loc[row_indexer,col_indexer] = value instead\n",
      "\n",
      "See the caveats in the documentation: https://pandas.pydata.org/pandas-docs/stable/user_guide/indexing.html#returning-a-view-versus-a-copy\n",
      "  X[['Mileage', 'Cylinder', 'Doors']] = scale.fit_transform(X[['Mileage', 'Cylinder', 'Doors']].values)\n"
     ]
    },
    {
     "data": {
      "text/html": [
       "<table class=\"simpletable\">\n",
       "<caption>OLS Regression Results</caption>\n",
       "<tr>\n",
       "  <th>Dep. Variable:</th>          <td>Price</td>      <th>  R-squared (uncentered):</th>      <td>   0.063</td> \n",
       "</tr>\n",
       "<tr>\n",
       "  <th>Model:</th>                   <td>OLS</td>       <th>  Adj. R-squared (uncentered):</th> <td>   0.059</td> \n",
       "</tr>\n",
       "<tr>\n",
       "  <th>Method:</th>             <td>Least Squares</td>  <th>  F-statistic:       </th>          <td>   17.94</td> \n",
       "</tr>\n",
       "<tr>\n",
       "  <th>Date:</th>             <td>Fri, 24 Feb 2023</td> <th>  Prob (F-statistic):</th>          <td>2.80e-11</td> \n",
       "</tr>\n",
       "<tr>\n",
       "  <th>Time:</th>                 <td>18:13:16</td>     <th>  Log-Likelihood:    </th>          <td> -9230.1</td> \n",
       "</tr>\n",
       "<tr>\n",
       "  <th>No. Observations:</th>      <td>   806</td>      <th>  AIC:               </th>          <td>1.847e+04</td>\n",
       "</tr>\n",
       "<tr>\n",
       "  <th>Df Residuals:</th>          <td>   803</td>      <th>  BIC:               </th>          <td>1.848e+04</td>\n",
       "</tr>\n",
       "<tr>\n",
       "  <th>Df Model:</th>              <td>     3</td>      <th>                     </th>              <td> </td>    \n",
       "</tr>\n",
       "<tr>\n",
       "  <th>Covariance Type:</th>      <td>nonrobust</td>    <th>                     </th>              <td> </td>    \n",
       "</tr>\n",
       "</table>\n",
       "<table class=\"simpletable\">\n",
       "<tr>\n",
       "      <td></td>        <th>coef</th>     <th>std err</th>      <th>t</th>      <th>P>|t|</th>  <th>[0.025</th>    <th>0.975]</th>  \n",
       "</tr>\n",
       "<tr>\n",
       "  <th>Mileage</th>  <td>-1241.9444</td> <td>  803.551</td> <td>   -1.546</td> <td> 0.123</td> <td>-2819.252</td> <td>  335.363</td>\n",
       "</tr>\n",
       "<tr>\n",
       "  <th>Cylinder</th> <td> 5593.8940</td> <td>  803.564</td> <td>    6.961</td> <td> 0.000</td> <td> 4016.560</td> <td> 7171.228</td>\n",
       "</tr>\n",
       "<tr>\n",
       "  <th>Doors</th>    <td>-1288.6922</td> <td>  803.312</td> <td>   -1.604</td> <td> 0.109</td> <td>-2865.532</td> <td>  288.148</td>\n",
       "</tr>\n",
       "</table>\n",
       "<table class=\"simpletable\">\n",
       "<tr>\n",
       "  <th>Omnibus:</th>       <td>166.295</td> <th>  Durbin-Watson:     </th> <td>   0.009</td>\n",
       "</tr>\n",
       "<tr>\n",
       "  <th>Prob(Omnibus):</th> <td> 0.000</td>  <th>  Jarque-Bera (JB):  </th> <td> 279.293</td>\n",
       "</tr>\n",
       "<tr>\n",
       "  <th>Skew:</th>          <td> 1.312</td>  <th>  Prob(JB):          </th> <td>2.25e-61</td>\n",
       "</tr>\n",
       "<tr>\n",
       "  <th>Kurtosis:</th>      <td> 4.196</td>  <th>  Cond. No.          </th> <td>    1.03</td>\n",
       "</tr>\n",
       "</table><br/><br/>Notes:<br/>[1] R² is computed without centering (uncentered) since the model does not contain a constant.<br/>[2] Standard Errors assume that the covariance matrix of the errors is correctly specified."
      ],
      "text/plain": [
       "<class 'statsmodels.iolib.summary.Summary'>\n",
       "\"\"\"\n",
       "                                 OLS Regression Results                                \n",
       "=======================================================================================\n",
       "Dep. Variable:                  Price   R-squared (uncentered):                   0.063\n",
       "Model:                            OLS   Adj. R-squared (uncentered):              0.059\n",
       "Method:                 Least Squares   F-statistic:                              17.94\n",
       "Date:                Fri, 24 Feb 2023   Prob (F-statistic):                    2.80e-11\n",
       "Time:                        18:13:16   Log-Likelihood:                         -9230.1\n",
       "No. Observations:                 806   AIC:                                  1.847e+04\n",
       "Df Residuals:                     803   BIC:                                  1.848e+04\n",
       "Df Model:                           3                                                  \n",
       "Covariance Type:            nonrobust                                                  \n",
       "==============================================================================\n",
       "                 coef    std err          t      P>|t|      [0.025      0.975]\n",
       "------------------------------------------------------------------------------\n",
       "Mileage    -1241.9444    803.551     -1.546      0.123   -2819.252     335.363\n",
       "Cylinder    5593.8940    803.564      6.961      0.000    4016.560    7171.228\n",
       "Doors      -1288.6922    803.312     -1.604      0.109   -2865.532     288.148\n",
       "==============================================================================\n",
       "Omnibus:                      166.295   Durbin-Watson:                   0.009\n",
       "Prob(Omnibus):                  0.000   Jarque-Bera (JB):              279.293\n",
       "Skew:                           1.312   Prob(JB):                     2.25e-61\n",
       "Kurtosis:                       4.196   Cond. No.                         1.03\n",
       "==============================================================================\n",
       "\n",
       "Notes:\n",
       "[1] R² is computed without centering (uncentered) since the model does not contain a constant.\n",
       "[2] Standard Errors assume that the covariance matrix of the errors is correctly specified.\n",
       "\"\"\""
      ]
     },
     "execution_count": 133,
     "metadata": {},
     "output_type": "execute_result"
    }
   ],
   "source": [
    "# lets add another new car with 45000 Mileage, 8 cylinders and 16 doors to the data and re-run the model\n",
    "# Create new row for the new car\n",
    "new_car = pd.DataFrame({'Mileage': 30000, 'Cylinder': 6, 'Doors': 16, 'Price': 20000}, index=[len(df)])\n",
    "\n",
    "# Append the new row to the dataframe\n",
    "df3 = df2.append(new_car)\n",
    "\n",
    "# Reset the index of the dataframe\n",
    "df3 = df3.reset_index(drop=True)\n",
    "df3.tail()\n",
    "\n",
    "import matplotlib.pyplot as plt\n",
    "plt.scatter(df3['Doors'], df3['Price'])\n",
    "plt.show()\n",
    "\n",
    "\n",
    "X = df3[['Mileage', 'Cylinder', 'Doors']]\n",
    "y = df3['Price']\n",
    "\n",
    "X[['Mileage', 'Cylinder', 'Doors']] = scale.fit_transform(X[['Mileage', 'Cylinder', 'Doors']].values)\n",
    "print (X)\n",
    "est3 = sm.OLS(y, X).fit()\n",
    "est3.summary()\n"
   ]
  },
  {
   "cell_type": "code",
   "execution_count": 134,
   "metadata": {},
   "outputs": [
    {
     "name": "stdout",
     "output_type": "stream",
     "text": [
      "[[3.06744227 1.97017489 0.46642753]]\n",
      "[6610.27514813]\n"
     ]
    }
   ],
   "source": [
    "# prediction for a car with 45000 Mileage, 8 cylinders and 4 doors\n",
    "scaled = scale.transform([[45000, 8, 4]])\n",
    "print(scaled)\n",
    "predicted = est3.predict(scaled[0])\n",
    "print(predicted)\n",
    "\n",
    "# old prediction before adding the new car is 6315.01330583 and the prediction after adding 8 doors car is 6368.14767781\n",
    "# and the prediction after adding 16 doors car is 6610.27514813\n",
    "# the new prediction is higher than the old one because the new car is an outlier"
   ]
  }
 ],
 "metadata": {
  "kernelspec": {
   "display_name": "base",
   "language": "python",
   "name": "python3"
  },
  "language_info": {
   "codemirror_mode": {
    "name": "ipython",
    "version": 3
   },
   "file_extension": ".py",
   "mimetype": "text/x-python",
   "name": "python",
   "nbconvert_exporter": "python",
   "pygments_lexer": "ipython3",
   "version": "3.9.13"
  },
  "vscode": {
   "interpreter": {
    "hash": "f695bf6730ca88121c6938dea1d26c4495328649183eb6568c6aaf9858a81703"
   }
  }
 },
 "nbformat": 4,
 "nbformat_minor": 1
}
